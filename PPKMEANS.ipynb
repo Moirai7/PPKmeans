{
 "cells": [
  {
   "cell_type": "markdown",
   "metadata": {},
   "source": [
    "# Privacy-preserving K-Means Clustering over Vertically Partitioned Data\n",
    "\n",
    "I implemented [Privacy-Preserving K-Means Clustering over Vertically Partitioned Data](https://dl.acm.org/doi/pdf/10.1145/956750.956776).\n",
    "\n",
    "The key idea of this paper is to cluster data that is vertically partitioned into different parties. Each party contain different attributes for a common set of entities. Each party learns the cluster of each entity, but learns nothing about the attributes at other parties. "
   ]
  },
  {
   "cell_type": "code",
   "execution_count": 1,
   "metadata": {},
   "outputs": [],
   "source": [
    "import numpy as np\n",
    "from random import *\n",
    "from math import *\n",
    "from phe import paillier"
   ]
  },
  {
   "cell_type": "markdown",
   "metadata": {},
   "source": [
    "## Data generation\n",
    "\n",
    "The following private preserving K-Means clustering can be applied for multi-parties, each having different numbers of attributes. I generated a dataset and divided it into different subsets which contain different attributes for a common set of entities. "
   ]
  },
  {
   "cell_type": "code",
   "execution_count": 2,
   "metadata": {
    "scrolled": false
   },
   "outputs": [
    {
     "name": "stdout",
     "output_type": "stream",
     "text": [
      "(40, 20)\n"
     ]
    }
   ],
   "source": [
    "def datagen(numProcs=5, numClusters=4, numPoints=10, dim=1):\n",
    "    data = []\n",
    "    label = []\n",
    "    for cluster in range(numClusters):\n",
    "        procData = []\n",
    "        mean = [randint(1,dataRange) for i in range(dim)]\n",
    "        var = sqrt(dim)*dataRange/numProcs**(3)\n",
    "        variance = lambda : triangular(0.5*var, 1.5*var)\n",
    "        for i in range(int(numPoints/numClusters)):\n",
    "            data.append([int(gauss(mean[j],variance())) for j in range(dim)])\n",
    "            label.append(cluster)\n",
    "    cluster_data = np.array(data)\n",
    "    result = [[] for _ in range(numProcs)]\n",
    "    data = np.array(data)\n",
    "    print(data.shape)\n",
    "    for idx, attribute in enumerate(list(range(dim))):\n",
    "        procNumber = randint(0,numProcs-1)\n",
    "        result[procNumber].append(list(data[:,attribute]))\n",
    "    \n",
    "    for procNumber in range(numProcs):\n",
    "        result[procNumber] = np.transpose(np.array(result[procNumber]))\n",
    "        \n",
    "    return cluster_data, label, result\n",
    "\n",
    "numProcs = 5\n",
    "numClusters = 4 \n",
    "numPoints = 40\n",
    "dim = 20\n",
    "dataRange = 50\n",
    "assert numPoints % numClusters == 0\n",
    "assert dim >= numProcs\n",
    "cluster_data, label, data = datagen(numProcs, numClusters, numPoints, dim)\n",
    "#print(cluster_data, label, data)"
   ]
  },
  {
   "cell_type": "markdown",
   "metadata": {},
   "source": [
    "## Visualize high-dimensional data"
   ]
  },
  {
   "cell_type": "code",
   "execution_count": 3,
   "metadata": {},
   "outputs": [],
   "source": [
    "import matplotlib.pyplot as plt\n",
    "from sklearn.manifold import TSNE\n",
    "def draw(cluster_data, label):\n",
    "    plt.plot()\n",
    "    RS = 2612\n",
    "    digits_proj = TSNE(random_state=RS).fit_transform(cluster_data)\n",
    "    plt.scatter(digits_proj[:, 0], digits_proj[:, 1], c=label)\n",
    "    plt.show()"
   ]
  },
  {
   "cell_type": "code",
   "execution_count": 4,
   "metadata": {},
   "outputs": [
    {
     "data": {
      "image/png": "[encoded data removed]",
      "text/plain": [
       "<Figure size 432x288 with 1 Axes>"
      ]
     },
     "metadata": {
      "needs_background": "light"
     },
     "output_type": "display_data"
    }
   ],
   "source": [
    "draw(cluster_data, label)"
   ]
  },
  {
   "cell_type": "markdown",
   "metadata": {},
   "source": [
    "## Party\n",
    "\n",
    "Here I defined the class party and sub-classes Party_Slave and Party_Master. Each party obtain the partitioned data(dataPoints), and a local center of the partitioned data(uij). Each party learns the cluster of each entity, but learns nothing about the attributes at other parites. Notice the master party will generates a random vector i (see function genV) for each site i and hold it for futher computation.  "
   ]
  },
  {
   "cell_type": "code",
   "execution_count": 5,
   "metadata": {},
   "outputs": [],
   "source": [
    "class Party():\n",
    "    def __init__(self, k, data):\n",
    "        self.dataPoints = []\n",
    "        self.d = data.shape[1]\n",
    "        for val in data:\n",
    "            self.dataPoints.append(val)\n",
    "        self.dataPoints = np.array(self.dataPoints)\n",
    "        self.k = k\n",
    "        tmp = numPoints/self.k\n",
    "        self.uij = self.dataPoints[[randint(i*tmp, (1+i)*tmp-1) for i in range(self.k)]]\n",
    "        self.uij2 = None\n",
    "        \n",
    "    def updateMeans(self):\n",
    "        self.uij = self.uij2\n",
    "        self.uij2 = None\n",
    "    \n",
    "    def calX(self, p):\n",
    "        self.x = [np.sqrt(np.sum(np.square(self.dataPoints[p] - b))) for b in self.uij]\n",
    "    \n",
    "    def __str__(self):\n",
    "        return str(self.uij)\n",
    "\n",
    "    def getDims(self):\n",
    "        return self.d\n",
    "    \n",
    "    def encode_each_item(self, x, pubkey):\n",
    "        return [pubkey.encrypt(x[i]) for i in range(len(x))]\n",
    "    \n",
    "    def decode_each_item(self, x, private_key):\n",
    "        return [private_key.decrypt(x[i]) for i in range(len(x))]\n",
    "    \n",
    "    def sendT(self):\n",
    "        return self.t\n",
    "    \n",
    "    def sumT(self, t):\n",
    "        self.t = np.array([a+b for a,b in zip(self.t, t)])\n",
    "        \n",
    "    def calY(self, t):\n",
    "        self.y = np.array([a+b for a,b in zip(self.t, t)])\n",
    "        \n",
    "    def calMeans(self, reset_cluster):\n",
    "        self.uij2 = [np.average(self.dataPoints[reset_cluster[k]], 0) for k in range(numClusters)]\n",
    "        self.uij2 = np.nan_to_num(self.uij2)\n",
    "        \n",
    "    def calD(self):\n",
    "        self.d = sum([np.sqrt(np.sum(np.square(a - b))) for a,b in zip(self.uij2, self.uij)])\n",
    "    \n",
    "    def sendP(self):\n",
    "        return (self.m + self.d) % numPoints \n",
    "    \n",
    "    def updateP(self, m, israndom = False):\n",
    "        self.m = randrange(0,numPoints*3) if israndom else m \n",
    "        \n",
    "    def sumDandP(self):\n",
    "        self.m += self.d\n",
    "    \n",
    "class Party_Slave(Party):\n",
    "    def __init__(self, k, data):  \n",
    "        Party.__init__(self, k, data)\n",
    "        \n",
    "    def genKey(self):\n",
    "        (self.pubkey, self.privkey) = paillier.generate_paillier_keypair()\n",
    "        return self.pubkey\n",
    "        \n",
    "    def encode(self):\n",
    "        crypt_text = self.encode_each_item(self.x, self.pubkey)\n",
    "        return crypt_text\n",
    "    \n",
    "    def decode(self, crypt_text):\n",
    "        self.t = self.decode_each_item(crypt_text, self.privkey)\n",
    "\n",
    "class Party_Master(Party):\n",
    "    def __init__(self, k, data):  \n",
    "        Party.__init__(self, k, data)\n",
    "        \n",
    "    def genV(self, r, n = 10):\n",
    "        self.v = np.zeros([r,self.k])\n",
    "        for i in range(self.k):\n",
    "            partSum_i = 0\n",
    "            for j in range(1, r):\n",
    "                self.v[j][i] = random() \n",
    "                partSum_i = (partSum_i + self.v[j][i]) % n\n",
    "            self.v[0][i] = -(partSum_i % n)\n",
    "\n",
    "    def genPermutation(self):\n",
    "        self.pi = np.random.permutation(self.k)\n",
    "    \n",
    "    def sendKeyAndGetT(self, x, pubkey, _id):\n",
    "        encode_v = self.encode_each_item(self.v[_id], pubkey)\n",
    "        t = [a+b for a,b in zip(x, encode_v)]\n",
    "        return np.array(t)[self.pi]\n",
    "    \n",
    "    def permuteT(self, _id):\n",
    "        self.t = (self.x + self.v[_id])[self.pi]\n",
    "        \n",
    "    def inversePi(self, minimal):\n",
    "        return self.pi[minimal] "
   ]
  },
  {
   "cell_type": "markdown",
   "metadata": {},
   "source": [
    "## closest cluster \n",
    "Find minimum distance cluster. \n",
    "\n",
    "We securely find the closest cluster. We calculated the distance to each cluster for each data points. This calculation was done inside each party and they will hold their distance vectors (X). \n",
    "\n",
    "First, The master party generates a random vector (V) for each party. Each slave party will generate  a  public-private keypair for a homomorphic encryption scheme. And each slave party (party i) send the encoded distance vector (x_i) and public key to the master party. The master party encoded the random vector (v_i) , calculated the sum of the encoded distance vector (x_i) and the encoded random vector (v_i),  permuted the result, and finally send it back to the slave party. The slave party decode the final result. Now, for each slave party, they have the permuted sum (t_i) of the distance vector (x_i) and the random vector (v_i). It is secure because each slave party don't know the random vector and permutation vector. \n",
    "\n",
    "Next, all parties except two slave party (party 2 and party r) will send the permuted sum (t_i) to party r. So party r can calculate the sum (y) of all permuted sum except the result of party 2. \n",
    "\n",
    "Finally, between party 2 and party r, they will securely add and compare y and t_2 to find the minimal cluster. I simplified the secure_add_and_compare function. Notice, till now, the calulation is done on permuted data, so we need the master party to find the true value of the closet cluster. \n"
   ]
  },
  {
   "cell_type": "code",
   "execution_count": 6,
   "metadata": {},
   "outputs": [],
   "source": [
    "def closet_cluster(parties):\n",
    "    parties[0].genV(numProcs)\n",
    "    parties[0].genPermutation()\n",
    "    parties[0].permuteT(0)\n",
    "    for i in range(1, numProcs):\n",
    "        add_and_permutation(parties, i)\n",
    "    \n",
    "    if debug:\n",
    "        print(parties[0].v)\n",
    "        print(parties[0].pi)\n",
    "        for i in range(numProcs):\n",
    "            print('x', parties[i].x)\n",
    "            print('t', parties[i].t)\n",
    "        print('\\n') \n",
    "        \n",
    "    for i in range(2, numProcs - 1):\n",
    "        parties[numProcs - 1].sumT(parties[i].sendT())\n",
    "    \n",
    "    parties[numProcs - 1].calY(parties[0].sendT())\n",
    "    \n",
    "    if debug:\n",
    "        print(parties[numProcs - 1].y + parties[1].t)\n",
    "        sumx = np.zeros([numClusters])\n",
    "        for i in range(numProcs):\n",
    "            sumx += parties[i].x\n",
    "        print(sumx)\n",
    "        \n",
    "    minimal = 0\n",
    "    for j in range(1, numClusters):\n",
    "        if (parties[numProcs-1].y[j] + parties[1].t[j] \\\n",
    "            < parties[numProcs-1].y[minimal] + parties[1].t[minimal]):\n",
    "            minimal = j\n",
    "    if debug:\n",
    "        print(minimal, parties[0].pi, parties[0].inversePi(minimal), parties[0].pi[minimal])\n",
    "    return parties[0].inversePi(minimal)\n",
    "    "
   ]
  },
  {
   "cell_type": "code",
   "execution_count": 7,
   "metadata": {},
   "outputs": [],
   "source": [
    "def add_and_permutation(parties, i):\n",
    "    publickey = parties[i].genKey()\n",
    "    encoded_x = parties[i].encode()\n",
    "    encoded_t = parties[0].sendKeyAndGetT(encoded_x, publickey, i)\n",
    "    parties[i].decode(encoded_t)"
   ]
  },
  {
   "cell_type": "markdown",
   "metadata": {},
   "source": [
    "## checkThreshold\n",
    "Find out if the new means are sufficiently close to old means. First, we calculated the distance of new clustering means and original means. Then, we securely sum the distance. Finally, we securely add and compare the threshold with the sum. I simplified the secure_add_and_compare function."
   ]
  },
  {
   "cell_type": "code",
   "execution_count": 8,
   "metadata": {},
   "outputs": [],
   "source": [
    "def checkThreshold(parties, th):\n",
    "    for i in range(numProcs):\n",
    "        parties[i].calD()\n",
    "        if debug:\n",
    "            print(parties[i].d)\n",
    "    \n",
    "    \n",
    "    parties[0].updateP(0, israndom=True)\n",
    "    for j in range(numProcs-1):\n",
    "        parties[j+1].updateP(parties[j].sendP())\n",
    "    \n",
    "    parties[numProcs-1].sumDandP()\n",
    "    \n",
    "    th2 = th + numProcs\n",
    "    if debug:\n",
    "        print(parties[0].m, parties[numProcs-1].m)\n",
    "        print(th2,(parties[numProcs-1].m - th2) % numPoints, (th2 - parties[numProcs-1].m) % numPoints)\n",
    "    return (parties[numProcs-1].m - th2) % numPoints > (th2 - parties[numProcs-1].m) % numPoints "
   ]
  },
  {
   "cell_type": "markdown",
   "metadata": {},
   "source": [
    "## Privacy Preserving k-means clustering\n"
   ]
  },
  {
   "cell_type": "markdown",
   "metadata": {},
   "source": [
    "\n",
    "First, I applied the algorithms on the generated dataset and displaied the clustering result."
   ]
  },
  {
   "cell_type": "code",
   "execution_count": 9,
   "metadata": {},
   "outputs": [],
   "source": [
    "debug = False\n",
    "parties = [Party_Master(numClusters, data[0])]\n",
    "for i in range(1, numProcs):\n",
    "    parties.append(Party_Slave(numClusters, data[i]))"
   ]
  },
  {
   "cell_type": "markdown",
   "metadata": {},
   "source": [
    "The algorithm contain 4 parts.\n",
    "\n",
    "1. Initilization. Each party will initilize a center for each cluster. In our example, we have 4 cluster. So  each party holds four vectors as the center of clusters.\n",
    "2. Find closet cluster. First, we calculate the distance to each cluster for each data points. This calculation are done inside each party and they will hold their distance vectors (X). Then, we will secure finding the closest cluster.\n",
    "3. Calculate clustering means for  each party. Every point is assigned to the proper cluster. We securely find the cluster with the minimum distance for each point. Once these mappings are known, the local components of each cluster mean can be computed locally. After cluster all data points, we then calcuate the means of each cluster with attributes in each party. \n",
    "4. Check Threshold. Find out if the new means are sufficiently close to old means. "
   ]
  },
  {
   "cell_type": "code",
   "execution_count": 10,
   "metadata": {},
   "outputs": [],
   "source": [
    "def PPKMeans(th, parties):\n",
    "    th = th\n",
    "    while (True):\n",
    "        result = []\n",
    "        reset_cluster = [[] for i in range(numClusters)]\n",
    "        if parties[0].uij2 is not None:\n",
    "            print('updating means')\n",
    "            for j in range(numProcs):\n",
    "                parties[j].updateMeans()\n",
    "                \n",
    "        for g in range(numPoints):\n",
    "            for j in range(numProcs):\n",
    "                parties[j].calX(g)\n",
    "                \n",
    "            minimal = closet_cluster(parties)\n",
    "            if debug:\n",
    "                print(g, minimal)\n",
    "            reset_cluster[minimal].append(g)\n",
    "            result.append(minimal)\n",
    "            \n",
    "            \n",
    "                \n",
    "        for j in range(numProcs):\n",
    "            parties[j].calMeans(reset_cluster)\n",
    "        \n",
    "        if debug:\n",
    "            print(parties[j].uij, parties[j].uij2)\n",
    "        \n",
    "        if (checkThreshold(parties, th)):\n",
    "            return result\n",
    "    "
   ]
  },
  {
   "cell_type": "code",
   "execution_count": 11,
   "metadata": {},
   "outputs": [],
   "source": [
    "reset_cluster = PPKMeans(10, parties)"
   ]
  },
  {
   "cell_type": "code",
   "execution_count": 12,
   "metadata": {},
   "outputs": [
    {
     "data": {
      "image/png": "[encoded data removed]",
      "text/plain": [
       "<Figure size 432x288 with 1 Axes>"
      ]
     },
     "metadata": {
      "needs_background": "light"
     },
     "output_type": "display_data"
    }
   ],
   "source": [
    "draw(cluster_data, reset_cluster)"
   ]
  },
  {
   "cell_type": "markdown",
   "metadata": {},
   "source": [
    "## SCADI [dataset](https://archive.ics.uci.edu/ml/datasets/SCADI)"
   ]
  },
  {
   "cell_type": "code",
   "execution_count": 13,
   "metadata": {},
   "outputs": [
    {
     "name": "stdout",
     "output_type": "stream",
     "text": [
      "(70, 205)\n"
     ]
    }
   ],
   "source": [
    "import pandas as pd\n",
    "data = pd.read_csv('SCADI/SCADI.csv').values\n",
    "numProcs = 10\n",
    "label = pd.factorize(data[:,-1])[0].astype(np.uint16)\n",
    "numClusters = len(set(label))\n",
    "numPoints = data.shape[0]\n",
    "dim = data.shape[1]-1\n",
    "#dataRange = 50\n",
    "assert numPoints % numClusters == 0\n",
    "assert dim >= numProcs\n",
    "result = [[] for _ in range(numProcs)]\n",
    "data = data[:,:-1]\n",
    "print(data.shape)\n",
    "\n",
    "for idx, attribute in enumerate(list(range(dim))):\n",
    "    procNumber = randint(0,numProcs-1)\n",
    "    result[procNumber].append(list(data[:,attribute]))\n",
    "\n",
    "for procNumber in range(numProcs):\n",
    "    result[procNumber] = np.transpose(np.array(result[procNumber]))\n"
   ]
  },
  {
   "cell_type": "code",
   "execution_count": 14,
   "metadata": {},
   "outputs": [
    {
     "data": {
      "image/png": "[encoded data removed]",
      "text/plain": [
       "<Figure size 432x288 with 1 Axes>"
      ]
     },
     "metadata": {
      "needs_background": "light"
     },
     "output_type": "display_data"
    }
   ],
   "source": [
    "draw(data, label)"
   ]
  },
  {
   "cell_type": "code",
   "execution_count": 15,
   "metadata": {},
   "outputs": [
    {
     "data": {
      "image/png": "[encoded data removed]",
      "text/plain": [
       "<Figure size 432x288 with 1 Axes>"
      ]
     },
     "metadata": {
      "needs_background": "light"
     },
     "output_type": "display_data"
    }
   ],
   "source": [
    "from sklearn.cluster import KMeans\n",
    "new_labels = KMeans(n_clusters=numClusters).fit_predict(data)\n",
    "draw(data,new_labels)"
   ]
  },
  {
   "cell_type": "code",
   "execution_count": 16,
   "metadata": {},
   "outputs": [],
   "source": [
    "parties = [Party_Master(numClusters, result[0])]\n",
    "for i in range(1, numProcs):\n",
    "    parties.append(Party_Slave(numClusters, result[i]))"
   ]
  },
  {
   "cell_type": "code",
   "execution_count": 17,
   "metadata": {},
   "outputs": [
    {
     "name": "stdout",
     "output_type": "stream",
     "text": [
      "updating means\n"
     ]
    }
   ],
   "source": [
    "reset_cluster = PPKMeans(3, parties)"
   ]
  },
  {
   "cell_type": "code",
   "execution_count": 18,
   "metadata": {},
   "outputs": [
    {
     "data": {
      "image/png": "[encoded data removed]",
      "text/plain": [
       "<Figure size 432x288 with 1 Axes>"
      ]
     },
     "metadata": {
      "needs_background": "light"
     },
     "output_type": "display_data"
    }
   ],
   "source": [
    "draw(data,reset_cluster)"
   ]
  },
  {
   "cell_type": "code",
   "execution_count": null,
   "metadata": {},
   "outputs": [],
   "source": []
  }
 ],
 "metadata": {
  "kernelspec": {
   "display_name": "Python 3",
   "language": "python",
   "name": "python3"
  },
  "language_info": {
   "codemirror_mode": {
    "name": "ipython",
    "version": 3
   },
   "file_extension": ".py",
   "mimetype": "text/x-python",
   "name": "python",
   "nbconvert_exporter": "python",
   "pygments_lexer": "ipython3",
   "version": "3.7.1"
  }
 },
 "nbformat": 4,
 "nbformat_minor": 2
}
